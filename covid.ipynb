{
 "metadata": {
  "language_info": {
   "codemirror_mode": {
    "name": "ipython",
    "version": 3
   },
   "file_extension": ".py",
   "mimetype": "text/x-python",
   "name": "python",
   "nbconvert_exporter": "python",
   "pygments_lexer": "ipython3",
   "version": "3.7.4-final"
  },
  "orig_nbformat": 2,
  "kernelspec": {
   "name": "python3",
   "display_name": "Python 3",
   "language": "python"
  }
 },
 "nbformat": 4,
 "nbformat_minor": 2,
 "cells": [
  {
   "cell_type": "code",
   "execution_count": 7,
   "metadata": {},
   "outputs": [],
   "source": [
    "import pandas as pd\n",
    "import requests\n",
    "import json\n",
    "from sqlalchemy import create_engine\n",
    "from datetime import datetime\n",
    "\n",
    "#Bring Data through URL provided\n",
    "url = 'https://health.data.ny.gov/api/views/xdss-u53e/rows.json?accessType=DOWNLOAD'\n",
    "content = requests.get(url).content\n",
    "data = json.loads(content)\n",
    "\n",
    "#Creating Dataframe through data extracted\n",
    "df = pd.DataFrame(data[\"data\"])\n",
    "\n",
    "# Adding Today's date in Dataframe\n",
    "df[\"load_date\"] = datetime.now()\n",
    "\n",
    "# Adding another County column, with removing spaces and period for better table naming \"New York\", \"St. Lawrence\"\n",
    "df[\"county\"] = df[9].str.replace(\" \", \"\").str.replace(\".\", \"\")\n",
    "\n",
    "#Droping extra columns from Dataframe\n",
    "df.drop(range(0, 8), axis=1, inplace=True)\n",
    "\n",
    "#Adding column names\n",
    "df.columns = ['test_date', 'countyname',\n",
    "              'new_positives', 'cumulative_number_of_positives', 'total_number_of_tests', 'cumulative_number_of_tests', 'load_date', 'county']\n",
    "\n",
    "#Droping default countyname field as it is not required              \n",
    "df.drop('countyname', axis=1, inplace=True)\n",
    "\n",
    "#Making unique counties for table creation and loop\n",
    "countyNames = df[\"county\"].unique().tolist()\n",
    "\n",
    "#Create engine for in-memory db\n",
    "engine = create_engine('sqlite://', echo=False)\n",
    "\n",
    "#Loop to create table and insert data into it\n",
    "for row in countyNames:\n",
    "    data = df.loc[df[\"county\"] == row]\n",
    "    data.to_sql(row, con=engine)\n"
   ]
  },
  {
   "cell_type": "code",
   "execution_count": 8,
   "metadata": {},
   "outputs": [
    {
     "output_type": "execute_result",
     "data": {
      "text/plain": [
       "[('2020-03-01T00:00:00', '0', 'NewYork'),\n",
       " ('2020-03-02T00:00:00', '0', 'NewYork'),\n",
       " ('2020-03-03T00:00:00', '0', 'NewYork'),\n",
       " ('2020-03-04T00:00:00', '1', 'NewYork'),\n",
       " ('2020-03-05T00:00:00', '2', 'NewYork')]"
      ]
     },
     "metadata": {},
     "execution_count": 8
    }
   ],
   "source": [
    "#Example of running data\n",
    "engine.execute(\"SELECT test_date, cumulative_number_of_positives,county FROM NewYork limit 5\").fetchall()"
   ]
  },
  {
   "cell_type": "code",
   "execution_count": 9,
   "metadata": {},
   "outputs": [
    {
     "output_type": "execute_result",
     "data": {
      "text/plain": [
       "[(0, '2020-03-01T00:00:00', '0', '0', '0', '0', '2021-01-24 11:16:42.282559', 'Albany'),\n",
       " (1, '2020-03-02T00:00:00', '0', '0', '0', '0', '2021-01-24 11:16:42.282559', 'Albany'),\n",
       " (2, '2020-03-03T00:00:00', '0', '0', '0', '0', '2021-01-24 11:16:42.282559', 'Albany'),\n",
       " (3, '2020-03-04T00:00:00', '0', '0', '0', '0', '2021-01-24 11:16:42.282559', 'Albany'),\n",
       " (4, '2020-03-05T00:00:00', '0', '0', '3', '3', '2021-01-24 11:16:42.282559', 'Albany')]"
      ]
     },
     "metadata": {},
     "execution_count": 9
    }
   ],
   "source": [
    "engine.execute(\"SELECT * FROM Albany limit 5\").fetchall()"
   ]
  }
 ]
}